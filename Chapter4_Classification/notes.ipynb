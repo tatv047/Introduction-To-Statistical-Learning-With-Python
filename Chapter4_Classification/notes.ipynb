{
 "cells": [
  {
   "cell_type": "markdown",
   "metadata": {},
   "source": [
    "# Classification\n",
    "\n",
    "- Qualitative variables take values in an unordered set *C*,such as \n",
    "$$eye color \\in {brown,blue,green}$$\n",
    "$$email \\in {spam,ham}$$\n",
    "- Given a fetaure vector *X* and a qualitative response *Y* taking values in the set *C*,the classification task is to build a function *C(X)* that takes as input the feature vector *X* and predicts its vakue for *Y*; i.e. $C(X) \\in C$\n",
    "- Often we are more interested in estimating the probabilities that *X* belongs to each category in *C*. For eg it's more valuable to have an estimate of the proabaility that an insurance claim is fraudalent,than a classifiaction fraudulent or not.\n",
    "We're going to use the following dataset in this section <br>\n",
    "<div style=\"text-align:center\">\n",
    "    <img src=\"img1.png\" alt=\"Image Description\">\n",
    "</div>\n",
    "\n"
   ]
  },
  {
   "cell_type": "markdown",
   "metadata": {},
   "source": [
    "## Logistic Regression\n",
    "- The orange marks indicate that the response *Y* , either 0 or 1 . Linear regression doesn't estimate $Pr(Y=1|X=x)$ well. Logistic regression seems well suited for this task.\n",
    "<div style=\"text-align:center\">\n",
    "    <img src=\"img2.png\" alt=\"Image Description\">\n",
    "</div>"
   ]
  },
  {
   "cell_type": "markdown",
   "metadata": {},
   "source": [
    "- Let's write $p(X) = Pr(Y=1|X) $ for short and consider using *balance* to predict *default*.Logistic regression uses the form\n",
    "$$  p(X) = \\frac{e^(\\beta_0 + \\beta_1 X)}{1 + e^(\\beta_0 + \\beta_1 X)}$$\n",
    "It's easy to see that $p(X)$ will always lie between 0 and 1.\n",
    "- A bit of rearrangement gives \n",
    "$$\\log{\\frac{p(X)}{1 - p(X)}} = \\beta_0 + \\beta_1 X$$\n",
    "This monotone transformation is called the **log odds** or **logit** transformation of $p(X)$. "
   ]
  },
  {
   "cell_type": "markdown",
   "metadata": {},
   "source": []
  }
 ],
 "metadata": {
  "language_info": {
   "name": "python"
  }
 },
 "nbformat": 4,
 "nbformat_minor": 2
}
